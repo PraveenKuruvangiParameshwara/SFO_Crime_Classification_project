{
 "cells": [
  {
   "cell_type": "markdown",
   "metadata": {},
   "source": [
    "# Interactive Map of SFO Crime Dataset"
   ]
  },
  {
   "cell_type": "markdown",
   "metadata": {},
   "source": [
    "### Load the libraries"
   ]
  },
  {
   "cell_type": "code",
   "execution_count": 1,
   "metadata": {},
   "outputs": [],
   "source": [
    "import numpy as np\n",
    "import pandas as pd\n",
    "#Load map library\n",
    "import folium\n",
    "from folium import plugins\n",
    "import matplotlib.pyplot as plt\n",
    "#Load the interactive library\n",
    "import ipywidgets as widgets\n",
    "from ipywidgets import Layout, interactive"
   ]
  },
  {
   "cell_type": "markdown",
   "metadata": {},
   "source": [
    "### Load the data"
   ]
  },
  {
   "cell_type": "code",
   "execution_count": 2,
   "metadata": {},
   "outputs": [],
   "source": [
    "data = pd.read_csv(\"Police_Department_Incident_Reports__Historical_2003_to_May_2018.csv\")\n",
    "\n",
    "#Find the unique values of police distict, Incident Category, Day of week.\n",
    "unique_district = data.PdDistrict.unique()\n",
    "unique_cat = data.Category.unique()\n",
    "unique_day = data.DayOfWeek.unique()"
   ]
  },
  {
   "cell_type": "markdown",
   "metadata": {},
   "source": [
    "### Define the widgets based on the filters/features that are required for the map"
   ]
  },
  {
   "cell_type": "code",
   "execution_count": 3,
   "metadata": {},
   "outputs": [],
   "source": [
    "style = {'description_width': 'initial'}\n",
    "\n",
    "# Maximum number of cases is 10000 \n",
    "\n",
    "limitcase = widgets.IntSlider(\n",
    "    value=1000,\n",
    "    min=250,\n",
    "    max=10000,\n",
    "    step=1,\n",
    "    description='Maximum Number of Inc Cases:',\n",
    "    disabled=False,\n",
    "    style=style)\n",
    "\n",
    "# Value specifies the filtered values\n",
    "pddistrict = widgets.SelectMultiple(\n",
    "    options = unique_district.tolist(),\n",
    "    value = ['SOUTHERN','CENTRAL'],\n",
    "    description='Pd District',\n",
    "    disabled=False,\n",
    "    style=style,\n",
    "    layout = Layout(width='60%', height='90px')\n",
    ")\n",
    "\n",
    "Inccategory = widgets.SelectMultiple(\n",
    "    options = unique_cat.tolist(),\n",
    "    value = ['VEHICLE THEFT', 'ASSAULT', 'ROBBERY'],\n",
    "    description='Incident Criminal Case',\n",
    "    disabled=False,\n",
    "    style=style,\n",
    "    layout = Layout(width='60%', height='90px')\n",
    ")\n",
    "dayofweek = widgets.SelectMultiple(\n",
    "    options = unique_day.tolist(),\n",
    "    value = ['Friday','Saturday','Sunday'],\n",
    "    description='Day of the week',\n",
    "    disabled=False,\n",
    "    style=style,\n",
    "    layout = Layout(width='60%', height='90px')\n",
    ")"
   ]
  },
  {
   "cell_type": "markdown",
   "metadata": {},
   "source": [
    "### Define the map to accept the widgets that you defined"
   ]
  },
  {
   "cell_type": "code",
   "execution_count": 4,
   "metadata": {},
   "outputs": [],
   "source": [
    "def display_map(district, category, limit, day):\n",
    "    \n",
    "    df = data\n",
    "    df = df.iloc[0:limit, :]\n",
    "    \n",
    "    latitude = 37.77\n",
    "    longitude = -122.42\n",
    "    \n",
    "    # define the variable to store corresponding attributes.\n",
    "    \n",
    "    df_dist = df.loc[df['PdDistrict'].isin(np.array(district))]\n",
    "    df_category = df_dist.loc[df_dist['Category'].isin(np.array(category))]\n",
    "    df_day = df_category.loc[df_category['DayOfWeek'].isin(np.array(day))]\n",
    "    \n",
    "    #find the unique values for each attribute/feature.\n",
    "    \n",
    "    cat_unique = df_day['Category'].value_counts()\n",
    "    cat_unique = cat_unique.reset_index()\n",
    "    \n",
    "    dist_unique = df_day['PdDistrict'].value_counts()\n",
    "    dist_unique = dist_unique.reset_index()\n",
    "    \n",
    "    day_unique = df_day['DayOfWeek'].value_counts()\n",
    "    day_unique = day_unique.reset_index()\n",
    "    \n",
    "    # Display the plots\n",
    "    fig, (ax1, ax2, ax3) = plt.subplots(1, 3, figsize=(20,10))\n",
    "\n",
    "    # create map and display it\n",
    "    sanfran_map = folium.Map(location=[latitude, longitude], zoom_start=12)\n",
    "\n",
    "    \n",
    "    incidents = plugins.MarkerCluster().add_to(sanfran_map)\n",
    "\n",
    "# loop through the dataframe and add each data point to the mark cluster\n",
    "    for lat, lng, label, in zip(df_category.Y, df_category.X, df_day.DayOfWeek):\n",
    "        folium.Marker(\n",
    "        location=[lat, lng],\n",
    "        icon=None,\n",
    "        popup=label,\n",
    "        ).add_to(incidents)\n",
    "# Display the map\n",
    "    display(sanfran_map)\n",
    "# Display the bar chart for the defined features    \n",
    "    ax1.bar(cat_unique['index'], cat_unique['Category'])\n",
    "    ax1.set_title('Number of Criminal Case Based on Category')\n",
    "    ax2.bar(dist_unique['index'], dist_unique['PdDistrict'])\n",
    "    ax2.set_title('Number of Criminal Case in Selected District')\n",
    "    ax3.bar(day_unique['index'], day_unique['DayOfWeek'])\n",
    "    ax3.set_title('Number of Criminal Case in Selected Day')\n",
    "    \n",
    "    plt.show()"
   ]
  },
  {
   "cell_type": "markdown",
   "metadata": {},
   "source": [
    "### A call for the interactive map by using the widgets"
   ]
  },
  {
   "cell_type": "code",
   "execution_count": 5,
   "metadata": {
    "scrolled": false
   },
   "outputs": [
    {
     "data": {
      "application/vnd.jupyter.widget-view+json": {
       "model_id": "49102cfb8c4f4a6f91b4de7379180880",
       "version_major": 2,
       "version_minor": 0
      },
      "text/plain": [
       "interactive(children=(SelectMultiple(description='Pd District', index=(2, 6), layout=Layout(height='90px', wid…"
      ]
     },
     "metadata": {},
     "output_type": "display_data"
    }
   ],
   "source": [
    "interactive(display_map, district = pddistrict, category = Inccategory, limit=limitcase, day=dayofweek)"
   ]
  },
  {
   "cell_type": "code",
   "execution_count": null,
   "metadata": {},
   "outputs": [],
   "source": []
  },
  {
   "cell_type": "markdown",
   "metadata": {},
   "source": [
    "#### Ref : https://github.com/marcellusruben"
   ]
  },
  {
   "cell_type": "code",
   "execution_count": null,
   "metadata": {},
   "outputs": [],
   "source": []
  }
 ],
 "metadata": {
  "kernelspec": {
   "display_name": "Python 3 (ipykernel)",
   "language": "python",
   "name": "python3"
  },
  "language_info": {
   "codemirror_mode": {
    "name": "ipython",
    "version": 3
   },
   "file_extension": ".py",
   "mimetype": "text/x-python",
   "name": "python",
   "nbconvert_exporter": "python",
   "pygments_lexer": "ipython3",
   "version": "3.8.2"
  }
 },
 "nbformat": 4,
 "nbformat_minor": 4
}
